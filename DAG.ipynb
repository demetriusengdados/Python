{
 "cells": [
  {
   "cell_type": "code",
   "execution_count": null,
   "metadata": {},
   "outputs": [],
   "source": [
    "from datetime import datetime\n",
    "from airflow import DAG\n",
    "from airflow.decorators import dag\n",
    "\n",
    "@dag(\n",
    "    dag_id = 'nome_da_dag',\n",
    "    start_date = datetime(2023, 6, 1),\n",
    "    schedule_interval = '0 0 * * 5', #Roda toda sexta a meia noite\n",
    "    catchup = False,\n",
    "    tags = [\"extract\", 'data']\n",
    ")\n",
    "def nome_da_dag():\n",
    "    pass\n",
    "\n",
    "dag = nome_da_dag()\n"
   ]
  }
 ],
 "metadata": {
  "language_info": {
   "name": "python"
  },
  "orig_nbformat": 4
 },
 "nbformat": 4,
 "nbformat_minor": 2
}
