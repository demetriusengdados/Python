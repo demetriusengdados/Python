{
  "nbformat": 4,
  "nbformat_minor": 0,
  "metadata": {
    "colab": {
      "name": "Desafio Dicionários Python.ipynb",
      "provenance": []
    },
    "kernelspec": {
      "name": "python3",
      "display_name": "Python 3"
    },
    "language_info": {
      "name": "python"
    }
  },
  "cells": [
    {
      "cell_type": "markdown",
      "source": [
        "1) Crie um dicionário e adicione nele as 5 pessoas que estão mais próximas de você. Esse dicionário deve ter como chave o nome e a cor da camisa que a pessoa está usando"
      ],
      "metadata": {
        "id": "w48j4K2X4gq8"
      }
    },
    {
      "cell_type": "code",
      "execution_count": 1,
      "metadata": {
        "colab": {
          "base_uri": "https://localhost:8080/"
        },
        "id": "25FTOluJ4gKd",
        "outputId": "3de8e2bf-5d89-4627-eded-d5b8f8dfa357"
      },
      "outputs": [
        {
          "output_type": "stream",
          "name": "stdout",
          "text": [
            "Digite o nome do seu amigo: luiz\n",
            "Digite a cor da sua camisa: branca\n",
            "Digite o nome do seu amigo: rafael\n",
            "Digite a cor da sua camisa: roxo\n",
            "Digite o nome do seu amigo: julio\n",
            "Digite a cor da sua camisa: azul\n",
            "Digite o nome do seu amigo: vini\n",
            "Digite a cor da sua camisa: verde\n",
            "Digite o nome do seu amigo: rodrigo \n",
            "Digite a cor da sua camisa: preta\n",
            "{'luiz': 'branca', 'rafael': 'roxo', 'julio': 'azul', 'vini': 'verde', 'rodrigo ': 'preta'}\n"
          ]
        }
      ],
      "source": [
        "amigos = {}\n",
        "\n",
        "for i in range(5):\n",
        "  Nome = input(\"Digite o nome do seu amigo: \")\n",
        "  CorCamisa = input(\"Digite a cor da sua camisa: \")\n",
        "\n",
        "  amigos[Nome] = CorCamisa\n",
        "\n",
        "print(amigos)"
      ]
    },
    {
      "cell_type": "markdown",
      "source": [
        "2) Crie um dicionário vazio e ele deve possuir como chave cada dia da semana e a aula que você tem em cada dia. Lembrando que o sábado e o domingo devem ficar vazios ou seja são dias de descanso."
      ],
      "metadata": {
        "id": "vv8UnjpE5dza"
      }
    },
    {
      "cell_type": "code",
      "source": [
        "dados={}\n",
        "aulas = open('agendaAulas.txt','w')\n",
        "dias = 5\n",
        "\n",
        "while dias >= 1:\n",
        "    \n",
        "    if dias == 5:\n",
        "        segunda= input('Segunda-Feira: ')      \n",
        "    elif dias == 4:        \n",
        "        terca= input('Terça-Feira: ')\n",
        "    elif dias == 3:        \n",
        "        quarta= input('Quarta-Feira: ')\n",
        "    elif dias == 2:        \n",
        "        quinta= input('Quinta-Feira: ')\n",
        "    elif dias == 1:        \n",
        "        sexta= input('Sexta-Feira: ')    \n",
        "    sabado= 'Sem Aula - Folga'\n",
        "    domingo= 'Sem Aula - Folga'    \n",
        "    dias = dias - 1\n",
        "\n",
        "aulas.write('{0},{1},{2},{3},{4},{5},{6}'.format(segunda,terca,quarta,quinta,sexta,sabado,domingo))\n",
        "aulas.close()\n",
        "\n",
        "agendaAulas = open('agendaAulas.txt','r')\n",
        "\n",
        "for aulasSemana in agendaAulas:\n",
        "    valores = aulasSemana.split(',')\n",
        "    dadosAula={'segunda-feira':valores[0],'terça-feira':valores[1],'quarta-feira':valores[2],'quinta-feira':valores[3],'sexta-feira':valores[4],'sabado':valores[5],'domingo':valores[6]}\n",
        "    print(dadosAula)"
      ],
      "metadata": {
        "colab": {
          "base_uri": "https://localhost:8080/"
        },
        "id": "bX0n-6Vv5c80",
        "outputId": "9a0e5c3c-5182-46b6-a99c-2fd13d59162b"
      },
      "execution_count": 3,
      "outputs": [
        {
          "output_type": "stream",
          "name": "stdout",
          "text": [
            "Segunda-Feira: machine learning\n",
            "Terça-Feira: ingles\n",
            "Quarta-Feira: spark\n",
            "Quinta-Feira: airflow\n",
            "Sexta-Feira: databricks \n",
            "{'segunda-feira': 'machine learning', 'terça-feira': 'ingles', 'quarta-feira': 'spark', 'quinta-feira': 'airflow', 'sexta-feira': 'databricks ', 'sabado': 'Sem Aula - Folga', 'domingo': 'Sem Aula - Folga'}\n"
          ]
        }
      ]
    },
    {
      "cell_type": "markdown",
      "source": [
        "3) Crie um dicionário vazio e nomeie ele de filmes. Esse dicionario deve possuir como chave o nome de um filme, o vilão e o ano em que o filme foi lançado. Inclua pelo menos 5 filmes."
      ],
      "metadata": {
        "id": "J5jVw5NH9VE3"
      }
    },
    {
      "cell_type": "code",
      "source": [
        "cabecalho = ['filme', 'vilao', 'ano']\n",
        "\n",
        "lista_filme = [\n",
        "['Eternos','Kang','2021']\n",
        ",['Viúva Negra','General Dreykov','2021']\n",
        ",['Venom: Tempo de Carnificina','Carnificina','2021']\n",
        ",['Duna','Elvis','2021']\n",
        ",['Esquadrão Suicida','Starro','2021']\n",
        "]\n",
        "\n",
        "filme = {}\n",
        "\n",
        "for i in range(len(lista_filme)):\n",
        "\n",
        "    filme = dict(zip(['filme', 'vilao', 'ano'], [lista_filme[i][0],lista_filme[i][1],lista_filme[i][2]]))\n",
        "              \n",
        "    print(filme)      "
      ],
      "metadata": {
        "colab": {
          "base_uri": "https://localhost:8080/"
        },
        "id": "hqw1ZBre9pSB",
        "outputId": "971c2ee9-02c5-4a0b-ee1b-d2ccc1f460a1"
      },
      "execution_count": 4,
      "outputs": [
        {
          "output_type": "stream",
          "name": "stdout",
          "text": [
            "{'filme': 'Eternos', 'vilao': 'Kang', 'ano': '2021'}\n",
            "{'filme': 'Viúva Negra', 'vilao': 'General Dreykov', 'ano': '2021'}\n",
            "{'filme': 'Venom: Tempo de Carnificina', 'vilao': 'Carnificina', 'ano': '2021'}\n",
            "{'filme': 'Duna', 'vilao': 'Elvis', 'ano': '2021'}\n",
            "{'filme': 'Esquadrão Suicida', 'vilao': 'Starro', 'ano': '2021'}\n"
          ]
        }
      ]
    },
    {
      "cell_type": "markdown",
      "source": [
        "4) Escreva uma função que retorne uma lista com todas as chaves de um dicionário que contém um certo valor. Exemplo, se o seu dicionário possuir os seguintes valores, {'a': 1, 'b': 2, 'c': 1, 'd': 4}, a função deve retornar ['a', 'c'] caso o valor procurado seja 1 e deverá retornar [] caso procure pelo valor 999"
      ],
      "metadata": {
        "id": "MJoV7-vw90QM"
      }
    },
    {
      "cell_type": "code",
      "source": [
        "def listaRegistrosDicionario(dicionario):\n",
        "\n",
        "    lista = []\n",
        "\n",
        "    valor = int(input('Informe o valor que deseja procurar: '))\n",
        "\n",
        "    for a in dic.keys():\n",
        "        if dic[a] == valor:\n",
        "            lista.append(a)\n",
        "        elif valor == 999:\n",
        "            lista = lista\n",
        "\n",
        "    print (lista)\n",
        "\n",
        "dic = {'valor_a': 1, 'valor_b': 2, 'valor_c': 1, 'valor_d': 4}\n",
        "    \n",
        "listaRegistrosDicionario(dic)"
      ],
      "metadata": {
        "colab": {
          "base_uri": "https://localhost:8080/"
        },
        "id": "TmxVxH_L93QB",
        "outputId": "89629546-e315-4201-d5ef-feebe4847fdf"
      },
      "execution_count": 6,
      "outputs": [
        {
          "output_type": "stream",
          "name": "stdout",
          "text": [
            "Informe o valor que deseja procurar: 2\n",
            "['valor_b']\n"
          ]
        }
      ]
    },
    {
      "cell_type": "markdown",
      "source": [
        "5) Crie um dicionário para armazenar nele os dados fornecidos pelo usuário. Esse dicionário deverá ter como chave o nome, a idade, o telefone e o endereço."
      ],
      "metadata": {
        "id": "TeEEHmGs-bWQ"
      }
    },
    {
      "cell_type": "code",
      "source": [
        "dados={}\n",
        "\n",
        "agenda = open('agenda.txt','w')\n",
        "\n",
        "s_ou_n='s'\n",
        "\n",
        "while s_ou_n=='s':\n",
        "\n",
        "    cpf= input('Pode Informar seu CPF: ')\n",
        "    nome= input('Qual é o seu Nome?')\n",
        "    idade= input('E a sua idade? ')\n",
        "    telefone= input('Por último, qual o seu telefone: ')\n",
        "    \n",
        "    agenda.write('{0},{1},{2},{3}'.format(cpf,nome,idade,telefone))\n",
        "    agenda.write(\"\\n\")\n",
        "   \n",
        "    s_ou_n= input('Demetrius, você deseja adicionar outro contato? (s/n)')\n",
        "    \n",
        "    if s_ou_n == 'n':\n",
        "        \n",
        "        agenda.close()\n",
        "\n",
        "agendaContatos = open('agenda.txt','r')\n",
        "\n",
        "for linhas in agendaContatos:\n",
        "\n",
        "    valores = linhas.split(',')\n",
        "    \n",
        "    dados={'cpf':valores[0],'nome':valores[1],'idade':valores[2],'telefone':valores[3]}\n",
        "    \n",
        "    print(dados)"
      ],
      "metadata": {
        "colab": {
          "base_uri": "https://localhost:8080/"
        },
        "id": "tPIYwOcP-eLH",
        "outputId": "1b7108d8-92c1-49d1-d970-291c58de1a35"
      },
      "execution_count": 8,
      "outputs": [
        {
          "output_type": "stream",
          "name": "stdout",
          "text": [
            "Pode Informar seu CPF: 111111111111\n",
            "Qual é o seu Nome?Jhony\n",
            "E a sua idade? 45\n",
            "Por último, qual o seu telefone: 123456789\n",
            "Demetrius, você deseja adicionar outro contato? (s/n)n\n",
            "{'cpf': '111111111111', 'nome': 'Jhony', 'idade': '45', 'telefone': '123456789\\n'}\n"
          ]
        }
      ]
    },
    {
      "cell_type": "markdown",
      "source": [
        "7) Crie um programa que cadastre informações de várias pessoas. Esse programa deverá receber informações de nome, idade e cpf. Depois armazene em um dicionário no formato chave nome-idade-cpf."
      ],
      "metadata": {
        "id": "9nRlZpUR-6d8"
      }
    },
    {
      "cell_type": "code",
      "source": [
        "dicContatos = {}\n",
        "\n",
        "inicio = 1\n",
        "fim = 0\n",
        "\n",
        "while inicio != fim:\n",
        "\n",
        "    dicContatos[inicio] = {}\n",
        "    dicContatos[inicio]['nome'] = input('Nome: ')\n",
        "    dicContatos[inicio]['idade'] = int(input('Idade: '))\n",
        "    dicContatos[inicio]['cpf'] = input('CPF: ')\n",
        "    \n",
        "    fim = input('Deseja continuar? ')\n",
        "    \n",
        "    if (fim == 'nao') | (fim == 'NAO'):\n",
        "        fim = inicio    \n",
        "    else:    \n",
        "        inicio = inicio + 1\n",
        "print('Cadastros Adicionados')"
      ],
      "metadata": {
        "colab": {
          "base_uri": "https://localhost:8080/"
        },
        "id": "1YSzBmj_-9Rb",
        "outputId": "9342827b-a3ed-4d1f-b60e-a897f430a8cc"
      },
      "execution_count": 12,
      "outputs": [
        {
          "output_type": "stream",
          "name": "stdout",
          "text": [
            "Nome: Jhony\n",
            "Idade: 28\n",
            "CPF: 11111111111111\n",
            "Deseja continuar? Borba\n",
            "Nome: 45\n",
            "Idade: 2222222222222\n",
            "CPF: 222222222222\n",
            "Deseja continuar? nao\n",
            "Cadastros Adicionados\n"
          ]
        }
      ]
    }
  ]
}