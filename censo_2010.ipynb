{
 "cells": [
  {
   "cell_type": "code",
   "execution_count": 54,
   "metadata": {},
   "outputs": [],
   "source": [
    "%reload_ext autoreload\n",
    "%autoreload 2\n",
    "\n",
    "import pandas as pd\n",
    "import numpy as np\n",
    "\n",
    "\n",
    "pd.options.display.max_columns = 999\n",
    "pd.options.display.max_rows = 1999\n",
    "pd.options.display.max_colwidth = 100\n",
    "\n",
    "import warnings\n",
    "warnings.filterwarnings('ignore')\n",
    "\n",
    "from tabula import read_pdf\n",
    "import camelot\n",
    "from camelot import utils\n",
    "\n",
    "import sys\n",
    "import os\n",
    "import shutil\n",
    "import glob\n",
    "from pathlib import Path\n",
    "\n",
    "from paths import *\n",
    "from scpts import manipulation\n",
    "from scpts import io\n",
    "from scpts import censo2010\n",
    "\n",
    "\n",
    "from basedosdados import Storage, Table, Dataset\n",
    "\n",
    "\n",
    "import yaml\n",
    "import ruamel.yaml\n",
    "import re\n"
   ]
  },
  {
   "cell_type": "markdown",
   "metadata": {},
   "source": [
    "# Road Map\n",
    "\n",
    "- First Download all tables from:\n",
    "    - https://www.ibge.gov.br/estatisticas/downloads-estatisticas.html\n",
    "        - censos\n",
    "            - censo_demografico_2010\n",
    "                - resultados_do_universo\n",
    "                    - agregados_por_setores_censitarios\n",
    "- Put the .zip files in this path: \"../data/censo/bases/original/fonte/\"\n",
    "\n",
    "- Run **CONVERT MAP TABLES** then **Organize directories**"
   ]
  },
  {
   "cell_type": "code",
   "execution_count": null,
   "metadata": {},
   "outputs": [],
   "source": []
  },
  {
   "cell_type": "markdown",
   "metadata": {},
   "source": [
    "## Organize directories"
   ]
  },
  {
   "cell_type": "code",
   "execution_count": 3,
   "metadata": {},
   "outputs": [],
   "source": [
    "datasets_path = \"../data/censo/bases/tratado/organized\"\n",
    "original_data_path = \"../data/censo/bases/original/fonte/\"\n",
    "\n",
    "file_table_reference = censo2010.file_table_reference()\n",
    "censo2010.create_dataset_folders(file_table_reference,datasets_path)\n"
   ]
  },
  {
   "cell_type": "code",
   "execution_count": 4,
   "metadata": {
    "scrolled": true
   },
   "outputs": [
    {
     "name": "stdout",
     "output_type": "stream",
     "text": [
      "../data/censo/bases/original/fonte/AC\n",
      "../data/censo/bases/original/fonte/AL\n",
      "../data/censo/bases/original/fonte/AM\n",
      "../data/censo/bases/original/fonte/AP\n",
      "../data/censo/bases/original/fonte/BA\n",
      "../data/censo/bases/original/fonte/CE\n",
      "../data/censo/bases/original/fonte/DF\n",
      "../data/censo/bases/original/fonte/Base informaçoes setores2010 universo ES\n",
      "../data/censo/bases/original/fonte/GO\n",
      "../data/censo/bases/original/fonte/MA\n",
      "../data/censo/bases/original/fonte/MG\n",
      "../data/censo/bases/original/fonte/MS\n",
      "../data/censo/bases/original/fonte/MT\n",
      "../data/censo/bases/original/fonte/PA\n",
      "../data/censo/bases/original/fonte/PB\n",
      "../data/censo/bases/original/fonte/PE_20171016\n",
      "../data/censo/bases/original/fonte/PI\n",
      "../data/censo/bases/original/fonte/PR\n",
      "../data/censo/bases/original/fonte/RJ\n",
      "../data/censo/bases/original/fonte/RN\n",
      "../data/censo/bases/original/fonte/RO\n",
      "../data/censo/bases/original/fonte/RR\n",
      "../data/censo/bases/original/fonte/RS_20150527\n",
      "../data/censo/bases/original/fonte/SC\n",
      "../data/censo/bases/original/fonte/SE\n",
      "../data/censo/bases/original/fonte/Base informaçoes setores2010 universo SP_Capital\n",
      "../data/censo/bases/original/fonte/SP Exceto a Capital\n",
      "../data/censo/bases/original/fonte/Base informacoes setores2010 universo TO\n"
     ]
    },
    {
     "data": {
      "text/plain": [
       "'../data/censo/bases/tratado/organized/basico_diretorio'"
      ]
     },
     "execution_count": 4,
     "metadata": {},
     "output_type": "execute_result"
    }
   ],
   "source": [
    "### Unzip and Organize directories\n",
    "zip_files = [str(p) for p in Path(original_data_path).glob(\"*.zip\")]\n",
    "\n",
    "for zip_file in zip_files:\n",
    "    f = ZipFile(zip_file)\n",
    "    f.extractall(path=original_data_path)\n",
    "\n",
    "    xls_files = [\n",
    "        str(p) for p in Path(original_data_path).glob(\"**/*\") if \".xls\" in str(p)\n",
    "    ]\n",
    "\n",
    "    XLS_files = [\n",
    "        str(p) for p in Path(original_data_path).glob(\"**/*\") if \".XLS\" in str(p)\n",
    "    ]\n",
    "\n",
    "    xls_files = xls_files + XLS_files\n",
    "\n",
    "    censo2010.rename_and_move_files(xls_files)\n",
    "\n",
    "    folder = [\n",
    "        str(p) for p in Path(original_data_path).glob(\"*\") if \"zip\" not in str(p)\n",
    "    ][0]\n",
    "    shutil.rmtree(folder)\n",
    "    print(folder)\n",
    "\n",
    "shutil.copytree(f\"{datasets_path}/basico\", f\"{datasets_path}/basico_diretorio\")"
   ]
  },
  {
   "cell_type": "code",
   "execution_count": null,
   "metadata": {},
   "outputs": [],
   "source": []
  },
  {
   "cell_type": "markdown",
   "metadata": {},
   "source": [
    "### Padronize Tables"
   ]
  },
  {
   "cell_type": "code",
   "execution_count": 32,
   "metadata": {},
   "outputs": [],
   "source": [
    "folders = glob.glob(\"../data/censo/bases/tratado/organized/*/\")"
   ]
  },
  {
   "cell_type": "code",
   "execution_count": 38,
   "metadata": {
    "scrolled": true
   },
   "outputs": [
    {
     "name": "stdout",
     "output_type": "stream",
     "text": [
      "../data/censo/bases/tratado/organized/alfabetizacao_homens_mulheres/\n",
      " \n",
      "../data/censo/bases/tratado/organized/alfabetizacao_total/\n",
      " \n",
      "../data/censo/bases/tratado/organized/basico/\n",
      " \n",
      "../data/censo/bases/tratado/organized/basico_diretorio/\n",
      " \n",
      "../data/censo/bases/tratado/organized/domicilio_caracteristicas_gerais/\n",
      " \n",
      "../data/censo/bases/tratado/organized/domicilio_moradores/\n",
      " \n",
      "../data/censo/bases/tratado/organized/domicilio_renda/\n",
      " \n",
      "../data/censo/bases/tratado/organized/entorno/\n",
      " \n",
      "../data/censo/bases/tratado/organized/entorno01/\n",
      " \n",
      "../data/censo/bases/tratado/organized/entorno02/\n",
      " \n",
      "../data/censo/bases/tratado/organized/entorno03/\n",
      " \n",
      "../data/censo/bases/tratado/organized/entorno04/\n",
      " \n",
      "../data/censo/bases/tratado/organized/entorno05/\n",
      "ES :  (6380, 221)\n",
      " \n",
      "../data/censo/bases/tratado/organized/idade_homens/\n",
      " \n",
      "../data/censo/bases/tratado/organized/idade_mulheres/\n",
      " \n",
      "../data/censo/bases/tratado/organized/idade_total/\n",
      " \n",
      "../data/censo/bases/tratado/organized/pessoa_renda/\n",
      " \n",
      "../data/censo/bases/tratado/organized/raca_alfabetizacao_idade_genero/\n",
      " \n",
      "../data/censo/bases/tratado/organized/raca_idade_0_4_genero/\n",
      " \n",
      "../data/censo/bases/tratado/organized/raca_idade_genero/\n",
      " \n",
      "../data/censo/bases/tratado/organized/registro_civil/\n",
      " \n",
      "../data/censo/bases/tratado/organized/relacao_parentesco_conjuges/\n",
      " \n",
      "../data/censo/bases/tratado/organized/relacao_parentesco_filhos/\n",
      " \n",
      "../data/censo/bases/tratado/organized/relacao_parentesco_filhos_enteados/\n",
      " \n",
      "../data/censo/bases/tratado/organized/relacao_parentesco_outros/\n",
      " \n",
      "../data/censo/bases/tratado/organized/responsavel_domicilios_homens_total/\n",
      " \n",
      "../data/censo/bases/tratado/organized/responsavel_domicilios_mulheres/\n",
      " \n",
      "../data/censo/bases/tratado/organized/responsavel_renda/\n",
      " \n"
     ]
    }
   ],
   "source": [
    "for folder in folders:\n",
    "    files = glob.glob(f'{folder}*.xls')\n",
    "    print(folder)\n",
    "    for file in files:\n",
    "\n",
    "        uf = file[-6:][:2].upper()\n",
    "        if uf == 'P1':\n",
    "            uf='SP1'\n",
    "        if uf == 'P2':\n",
    "            uf='SP2'\n",
    "        \n",
    "        treated_path = f'{folder}sigla_uf={uf}'\n",
    "        if os.path.isdir(treated_path) == False:\n",
    "            df = pd.read_excel(file)\n",
    "            df.columns = manipulation.normalize_cols(df.columns)\n",
    "            os.mkdir(treated_path)\n",
    "                    \n",
    "            file_name = file.split('/')[-1].split('_')[0].lower() + '.xls'\n",
    "            \n",
    "            \n",
    "            drop_col = [i for i in df.columns.tolist() if i.startswith('unnamed')]\n",
    "#             drop_col = drop_col\n",
    "            df = df.drop(columns=drop_col)\n",
    "            \n",
    "#             cols = df.columns.tolist()[:1] + ['uf_sigla'] + df.columns.tolist()[1:]\n",
    "#             df['uf_sigla']=uf\n",
    "            cols_rename = [col  for col in df.columns.tolist() if  col[-1]=='_']\n",
    "            rename_dict = ref_dict = dict(zip(cols_rename, [col[:-1] for col in cols_rename]))\n",
    "            df = df.rename(columns=rename_dict)\n",
    "            \n",
    "            for col in df.columns.tolist():\n",
    "                df[col] = df[col].astype(str).str.replace(',','.')\n",
    "#             display(df.head(2))\n",
    "            df = df.rename(columns = {'cod_setor':'id_setor_censitario'})    \n",
    "            if folder == '../data/censo/bases/tratado/organized/basico/':\n",
    "                df = df.rename(columns = {'cod_setor':'id_setor_censitario'})\n",
    "                cols = ['id_setor_censitario',\n",
    "                        'v001','v002','v003','v004','v005','v006',\n",
    "                        'v007','v008','v009','v010','v011','v012',\n",
    "                       ]\n",
    "                df = df[cols]\n",
    "\n",
    "            elif  folder == '../data/censo/bases/tratado/organized/basico_diretorio/':\n",
    "                df = df.rename(columns = {'cod_setor':'id_setor_censitario'})\n",
    "                df = df.rename(columns = {\n",
    "                    'cod_rm':'id_rm',\n",
    "                    'cod_municipio':'id_municipio',\n",
    "                    'cod_distrito':'id_distrito',\n",
    "                    'cod_subdistrito':'id_subdistrito',\n",
    "                    'cod_bairro':'id_bairro',\n",
    "                    'nome_da_rm':'nome_rm',\n",
    "                    'nome_do_distrito':'nome_distrito',\n",
    "                    'nome_do_subdistrito':'nome_subdistrito',\n",
    "                    'nome_do_bairro':'nome_bairro',\n",
    "                })\n",
    "                \n",
    "                cols = ['id_setor_censitario','id_municipio',\n",
    "                        'id_rm','nome_rm','id_distrito','nome_distrito',\n",
    "                        'id_subdistrito','nome_subdistrito','id_bairro',\n",
    "                        'nome_bairro','situacao_setor','tipo_setor']\n",
    "                df = df[cols]\n",
    "                df['nome_bairro'] = df['nome_bairro'].str.replace('todos os setores','')\\\n",
    "                                                     .str.replace(r\"\\(.*\\)\",'').str.strip()\n",
    "                \n",
    "            else:\n",
    "                cols = [col for col in df.columns.tolist() if re.match('v\\d\\d\\d', col)]\n",
    "                df = df[['id_setor_censitario'] + cols]\n",
    "    \n",
    "        else:\n",
    "            pass\n",
    "        f_name = file_name.split('.')[0]\n",
    "        print(uf,': ',df.shape)\n",
    "        df.to_csv(f'{treated_path}/{f_name}.csv', index=False, encoding='utf-8')\n",
    "        os.remove(file)\n",
    "\n",
    "    print(' ')"
   ]
  },
  {
   "cell_type": "code",
   "execution_count": null,
   "metadata": {},
   "outputs": [],
   "source": []
  },
  {
   "cell_type": "markdown",
   "metadata": {},
   "source": [
    "## Merge Entorno* Tables"
   ]
  },
  {
   "cell_type": "code",
   "execution_count": 45,
   "metadata": {
    "scrolled": true
   },
   "outputs": [],
   "source": [
    "partitions = [partition.split('/')[-1] for partition \\\n",
    "              in glob.glob(\"../data/censo/bases/tratado/organized/entorno01/*\")]\n",
    "\n",
    "# from functools import reduce\n",
    "\n",
    "partitions_done = [partition.split('/')[-1] for partition \\\n",
    "              in glob.glob(\"../data/censo/bases/tratado/organized/entorno/*\")]\n",
    "partitions_f = [pt for pt in partitions if pt not in partitions_done]\n",
    "\n",
    "entorno_path = '../data/censo/bases/tratado/organized/entorno'\n",
    "for partition in partitions_f:\n",
    "    print(partition)\n",
    "    e1 = pd.read_csv(f'{entorno_path}01/{partition}/entorno01.csv',dtype={'id_setor_censitario':int}).sort_values(by='id_setor_censitario')\n",
    "    e2 = pd.read_csv(f'{entorno_path}02/{partition}/entorno02.csv',dtype={'id_setor_censitario':int}).sort_values(by='id_setor_censitario')\n",
    "    e3 = pd.read_csv(f'{entorno_path}03/{partition}/entorno03.csv',dtype={'id_setor_censitario':int}).sort_values(by='id_setor_censitario')\n",
    "    e4 = pd.read_csv(f'{entorno_path}04/{partition}/entorno04.csv',dtype={'id_setor_censitario':int}).sort_values(by='id_setor_censitario')\n",
    "    e5 = pd.read_csv(f'{entorno_path}05/{partition}/entorno05.csv',dtype={'id_setor_censitario':int}).sort_values(by='id_setor_censitario')\n",
    "    \n",
    "    dfs = [e1,e2,e3,e4,e5]\n",
    "    ef = reduce(lambda left,right: pd.merge(left,right,\n",
    "                                            on='id_setor_censitario',\n",
    "                                            how='outer'), dfs)\n",
    "    \n",
    "    \n",
    "    print('e1:', e1.shape)\n",
    "    print('e2:', e2.shape)\n",
    "    print('e3:', e3.shape)\n",
    "    print('e4:', e4.shape)\n",
    "    print('e5:', e5.shape)\n",
    "    print('ef:', ef.shape)\n",
    "    print(' ')\n",
    "    os.mkdir(f'{entorno_path}/{partition}')\n",
    "    ef.to_csv(f'{entorno_path}/{partition}/entorno.csv', index=False)\n",
    "    \n",
    "    del dfs, e1, e2, e3, e4, e5, ef\n",
    "    \n",
    "## GO have some cols missing\n",
    "go = pd.read_csv('../data/censo/bases/tratado/organized/entorno/sigla_uf=GO/entorno.csv')\n",
    "es = pd.read_csv('../data/censo/bases/tratado/organized/entorno/sigla_uf=ES/entorno.csv')\n",
    "goc = go.columns.tolist()\n",
    "esc = es.columns.tolist()\n",
    "create_cols = [col for col in esc if col not in goc]\n",
    "\n",
    "for col in create_cols:\n",
    "    go[col] = np.nan\n",
    "go = go[esc]\n",
    "go.to_csv('../data/censo/bases/tratado/organized/entorno/sigla_uf=GO/entorno.csv', index=False)\n",
    "\n",
    "\n",
    "### Remove entorno* cols\n",
    "shutil.rmtree('../data/censo/bases/tratado/organized/entorno01/')\n",
    "shutil.rmtree('../data/censo/bases/tratado/organized/entorno02/')\n",
    "shutil.rmtree('../data/censo/bases/tratado/organized/entorno03/')\n",
    "shutil.rmtree('../data/censo/bases/tratado/organized/entorno04/')\n",
    "shutil.rmtree('../data/censo/bases/tratado/organized/entorno05/')"
   ]
  },
  {
   "cell_type": "code",
   "execution_count": 63,
   "metadata": {},
   "outputs": [],
   "source": []
  },
  {
   "cell_type": "code",
   "execution_count": null,
   "metadata": {},
   "outputs": [],
   "source": []
  },
  {
   "cell_type": "code",
   "execution_count": null,
   "metadata": {},
   "outputs": [],
   "source": []
  },
  {
   "cell_type": "markdown",
   "metadata": {},
   "source": [
    "## Upload To BD+"
   ]
  },
  {
   "cell_type": "markdown",
   "metadata": {},
   "source": [
    "### Generate and fill configs"
   ]
  },
  {
   "cell_type": "code",
   "execution_count": 70,
   "metadata": {},
   "outputs": [],
   "source": [
    "import basedosdados as bd"
   ]
  },
  {
   "cell_type": "code",
   "execution_count": 71,
   "metadata": {},
   "outputs": [],
   "source": [
    "reference_table_path = '../data/censo/bases/tratado/reference_tables/'\n",
    "folders = glob.glob(\"../data/censo/bases/tratado/organized/*/\")\n",
    "folders.remove( '../data/censo/bases/tratado/organized/basico_diretorio/')"
   ]
  },
  {
   "cell_type": "code",
   "execution_count": 72,
   "metadata": {
    "scrolled": true
   },
   "outputs": [
    {
     "name": "stderr",
     "output_type": "stream",
     "text": [
      "Uploading files:   0%|          | 0/28 [00:00<?, ?it/s]"
     ]
    },
    {
     "name": "stdout",
     "output_type": "stream",
     "text": [
      "0  -  ../data/censo/bases/tratado/organized/alfabetizacao_homens_mulheres/\n"
     ]
    },
    {
     "name": "stderr",
     "output_type": "stream",
     "text": [
      "Uploading files: 100%|██████████| 28/28 [01:19<00:00,  2.85s/it]\n",
      "Uploading files:   0%|          | 0/28 [00:00<?, ?it/s]"
     ]
    },
    {
     "name": "stdout",
     "output_type": "stream",
     "text": [
      " \n",
      "1  -  ../data/censo/bases/tratado/organized/alfabetizacao_total/\n"
     ]
    },
    {
     "name": "stderr",
     "output_type": "stream",
     "text": [
      "Uploading files: 100%|██████████| 28/28 [00:50<00:00,  1.81s/it]\n",
      "Uploading files:   0%|          | 0/28 [00:00<?, ?it/s]"
     ]
    },
    {
     "name": "stdout",
     "output_type": "stream",
     "text": [
      " \n",
      "2  -  ../data/censo/bases/tratado/organized/basico/\n"
     ]
    },
    {
     "name": "stderr",
     "output_type": "stream",
     "text": [
      "Uploading files: 100%|██████████| 28/28 [00:35<00:00,  1.26s/it]\n",
      "Uploading files:   0%|          | 0/28 [00:00<?, ?it/s]"
     ]
    },
    {
     "name": "stdout",
     "output_type": "stream",
     "text": [
      " \n",
      "3  -  ../data/censo/bases/tratado/organized/domicilio_caracteristicas_gerais/\n"
     ]
    },
    {
     "name": "stderr",
     "output_type": "stream",
     "text": [
      "Uploading files: 100%|██████████| 28/28 [01:49<00:00,  3.91s/it]\n",
      "Uploading files:   0%|          | 0/28 [00:00<?, ?it/s]"
     ]
    },
    {
     "name": "stdout",
     "output_type": "stream",
     "text": [
      " \n",
      "4  -  ../data/censo/bases/tratado/organized/domicilio_moradores/\n"
     ]
    },
    {
     "name": "stderr",
     "output_type": "stream",
     "text": [
      "Uploading files: 100%|██████████| 28/28 [01:21<00:00,  2.91s/it]\n",
      "Uploading files:   0%|          | 0/28 [00:00<?, ?it/s]"
     ]
    },
    {
     "name": "stdout",
     "output_type": "stream",
     "text": [
      " \n",
      "5  -  ../data/censo/bases/tratado/organized/domicilio_renda/\n"
     ]
    },
    {
     "name": "stderr",
     "output_type": "stream",
     "text": [
      "Uploading files: 100%|██████████| 28/28 [00:21<00:00,  1.30it/s]\n",
      "Uploading files:   0%|          | 0/28 [00:00<?, ?it/s]"
     ]
    },
    {
     "name": "stdout",
     "output_type": "stream",
     "text": [
      " \n",
      "6  -  ../data/censo/bases/tratado/organized/entorno/\n"
     ]
    },
    {
     "name": "stderr",
     "output_type": "stream",
     "text": [
      "Uploading files: 100%|██████████| 28/28 [06:07<00:00, 13.12s/it]\n",
      "Uploading files:   0%|          | 0/28 [00:00<?, ?it/s]"
     ]
    },
    {
     "name": "stdout",
     "output_type": "stream",
     "text": [
      " \n",
      "7  -  ../data/censo/bases/tratado/organized/idade_homens/\n"
     ]
    },
    {
     "name": "stderr",
     "output_type": "stream",
     "text": [
      "Uploading files: 100%|██████████| 28/28 [01:04<00:00,  2.31s/it]\n",
      "Uploading files:   0%|          | 0/28 [00:00<?, ?it/s]"
     ]
    },
    {
     "name": "stdout",
     "output_type": "stream",
     "text": [
      " \n",
      "8  -  ../data/censo/bases/tratado/organized/idade_mulheres/\n"
     ]
    },
    {
     "name": "stderr",
     "output_type": "stream",
     "text": [
      "Uploading files: 100%|██████████| 28/28 [01:04<00:00,  2.31s/it]\n",
      "Uploading files:   0%|          | 0/28 [00:00<?, ?it/s]"
     ]
    },
    {
     "name": "stdout",
     "output_type": "stream",
     "text": [
      " \n",
      "9  -  ../data/censo/bases/tratado/organized/idade_total/\n"
     ]
    },
    {
     "name": "stderr",
     "output_type": "stream",
     "text": [
      "Uploading files: 100%|██████████| 28/28 [01:06<00:00,  2.37s/it]\n",
      "Uploading files:   0%|          | 0/28 [00:00<?, ?it/s]"
     ]
    },
    {
     "name": "stdout",
     "output_type": "stream",
     "text": [
      " \n",
      "10  -  ../data/censo/bases/tratado/organized/pessoa_renda/\n"
     ]
    },
    {
     "name": "stderr",
     "output_type": "stream",
     "text": [
      "Uploading files: 100%|██████████| 28/28 [01:42<00:00,  3.67s/it]\n",
      "Uploading files:   0%|          | 0/28 [00:00<?, ?it/s]"
     ]
    },
    {
     "name": "stdout",
     "output_type": "stream",
     "text": [
      " \n",
      "11  -  ../data/censo/bases/tratado/organized/raca_alfabetizacao_idade_genero/\n"
     ]
    },
    {
     "name": "stderr",
     "output_type": "stream",
     "text": [
      "Uploading files: 100%|██████████| 28/28 [01:11<00:00,  2.57s/it]\n",
      "Uploading files:   0%|          | 0/28 [00:00<?, ?it/s]"
     ]
    },
    {
     "name": "stdout",
     "output_type": "stream",
     "text": [
      " \n",
      "12  -  ../data/censo/bases/tratado/organized/raca_idade_0_4_genero/\n"
     ]
    },
    {
     "name": "stderr",
     "output_type": "stream",
     "text": [
      "Uploading files: 100%|██████████| 28/28 [00:17<00:00,  1.59it/s]\n",
      "Uploading files:   0%|          | 0/28 [00:00<?, ?it/s]"
     ]
    },
    {
     "name": "stdout",
     "output_type": "stream",
     "text": [
      " \n",
      "13  -  ../data/censo/bases/tratado/organized/raca_idade_genero/\n"
     ]
    },
    {
     "name": "stderr",
     "output_type": "stream",
     "text": [
      "Uploading files: 100%|██████████| 28/28 [01:50<00:00,  3.94s/it]\n",
      "Uploading files:   0%|          | 0/28 [00:00<?, ?it/s]"
     ]
    },
    {
     "name": "stdout",
     "output_type": "stream",
     "text": [
      " \n",
      "14  -  ../data/censo/bases/tratado/organized/registro_civil/\n"
     ]
    },
    {
     "name": "stderr",
     "output_type": "stream",
     "text": [
      "Uploading files: 100%|██████████| 28/28 [00:15<00:00,  1.79it/s]\n",
      "Uploading files:   0%|          | 0/28 [00:00<?, ?it/s]"
     ]
    },
    {
     "name": "stdout",
     "output_type": "stream",
     "text": [
      " \n",
      "15  -  ../data/censo/bases/tratado/organized/relacao_parentesco_conjuges/\n"
     ]
    },
    {
     "name": "stderr",
     "output_type": "stream",
     "text": [
      "Uploading files: 100%|██████████| 28/28 [01:27<00:00,  3.11s/it]\n",
      "Uploading files:   0%|          | 0/28 [00:00<?, ?it/s]"
     ]
    },
    {
     "name": "stdout",
     "output_type": "stream",
     "text": [
      " \n",
      "16  -  ../data/censo/bases/tratado/organized/relacao_parentesco_filhos/\n"
     ]
    },
    {
     "name": "stderr",
     "output_type": "stream",
     "text": [
      "Uploading files: 100%|██████████| 28/28 [01:26<00:00,  3.08s/it]\n",
      "Uploading files:   0%|          | 0/28 [00:00<?, ?it/s]"
     ]
    },
    {
     "name": "stdout",
     "output_type": "stream",
     "text": [
      " \n",
      "17  -  ../data/censo/bases/tratado/organized/relacao_parentesco_filhos_enteados/\n"
     ]
    },
    {
     "name": "stderr",
     "output_type": "stream",
     "text": [
      "Uploading files: 100%|██████████| 28/28 [01:43<00:00,  3.69s/it]\n",
      "Uploading files:   0%|          | 0/28 [00:00<?, ?it/s]"
     ]
    },
    {
     "name": "stdout",
     "output_type": "stream",
     "text": [
      " \n",
      "18  -  ../data/censo/bases/tratado/organized/relacao_parentesco_outros/\n"
     ]
    },
    {
     "name": "stderr",
     "output_type": "stream",
     "text": [
      "Uploading files: 100%|██████████| 28/28 [01:38<00:00,  3.53s/it]\n",
      "Uploading files:   0%|          | 0/28 [00:00<?, ?it/s]"
     ]
    },
    {
     "name": "stdout",
     "output_type": "stream",
     "text": [
      " \n",
      "19  -  ../data/censo/bases/tratado/organized/responsavel_domicilios_homens_total/\n"
     ]
    },
    {
     "name": "stderr",
     "output_type": "stream",
     "text": [
      "Uploading files: 100%|██████████| 28/28 [01:32<00:00,  3.31s/it]\n",
      "Uploading files:   0%|          | 0/28 [00:00<?, ?it/s]"
     ]
    },
    {
     "name": "stdout",
     "output_type": "stream",
     "text": [
      " \n",
      "20  -  ../data/censo/bases/tratado/organized/responsavel_domicilios_mulheres/\n"
     ]
    },
    {
     "name": "stderr",
     "output_type": "stream",
     "text": [
      "Uploading files: 100%|██████████| 28/28 [00:53<00:00,  1.93s/it]\n",
      "Uploading files:   0%|          | 0/28 [00:00<?, ?it/s]"
     ]
    },
    {
     "name": "stdout",
     "output_type": "stream",
     "text": [
      " \n",
      "21  -  ../data/censo/bases/tratado/organized/responsavel_renda/\n"
     ]
    },
    {
     "name": "stderr",
     "output_type": "stream",
     "text": [
      "Uploading files: 100%|██████████| 28/28 [01:33<00:00,  3.33s/it]\n"
     ]
    },
    {
     "name": "stdout",
     "output_type": "stream",
     "text": [
      " \n"
     ]
    }
   ],
   "source": [
    "# i=2\n",
    "i=0\n",
    "for folder in folders:\n",
    "    print(i,' - ',folder)\n",
    "    i+=1\n",
    "    folder_name = folder.split('/')[-2]\n",
    "#     reference_table_file = reference_table_path + folder_name + '.xlsx'\n",
    "#     ref = pd.read_excel(reference_table_file)\n",
    "\n",
    "#     bd_base_path = '/mnt/AEB0CCA7B0CC777D/Jlab/gabinete_sv/mais/bases/br_ibge_censo2010/' + f'{folder_name}_setor_censitario/table_config.yaml'\n",
    "    \n",
    "    \n",
    "    \n",
    "#     ref.columns = manipulation.normalize_cols(ref.columns)\n",
    "    \n",
    "#     if 'codigo_da_variavel' in ref.columns.tolist():\n",
    "#         ref['codigo_da_variavel'] = manipulation.normalize_cols(ref['codigo_da_variavel'])\n",
    "\n",
    "#         var_name = ref['codigo_da_variavel'].tolist()\n",
    "#         var_desc = ref['descricao_do_setor'].tolist()\n",
    "        \n",
    "#     elif 'nome_da_variavel' in ref.columns.tolist():\n",
    "#         ref['nome_da_variavel'] = manipulation.normalize_cols(ref['nome_da_variavel'])\n",
    "\n",
    "#         var_name = ref['nome_da_variavel'].tolist()\n",
    "#         var_desc = ref['descricao_da_variavel'].tolist()\n",
    "\n",
    "#     ref_dict = dict(zip(var_name, var_desc))\n",
    "#     ref_dict['uf_sigla'] = 'Sigla do Estado'\n",
    "#     ref_dict['sigla_uf'] = 'Sigla do Estado'\n",
    "#     ref_dict['situacao_setor'] = 'Código de situação do setor - Situação urbana - Códigos: 1, 2 e 3    - 1 - Área urbanizada de cidade ou vila    - 2 - Área não urbanizada de cidade ou vila    - 3 - Área urbana isolada - Situação rural – códigos: 4, 5, 6, 7 e 8    - 4 - Aglomerado rural de extensão urbana     - 5 - Aglomerado rural isolado – povoado    - 6 - Aglomerado rural isolado – núcleo    - 7 - Aglomerado rural isolado - outros aglomerados    - 8 - Zona rural, exclusive aglomerado rural'\n",
    "    \n",
    "    \n",
    "    tb = Table(f'setor_censitario_{folder_name}_2010','br_ibge_censo_demografico')\n",
    "    tb.create(f'../data/censo/bases/tratado/organized/{folder_name}/',\n",
    "              partitioned=True,\n",
    "              if_table_exists='replace',\n",
    "              if_storage_data_exists='repalce',\n",
    "              if_table_config_exists='pass',\n",
    "             )\n",
    "\n",
    "#     yaml =ml ruamel.yaml.YAML()\n",
    "#     # yaml.preserve_quotes = Truehttps://basedosdados.org/api/3/action/tag_list\n",
    "#     with open(bd_base_path) as fp:\n",
    "#         config_yaml = yaml.load(fp)\n",
    "\n",
    "\n",
    "#     for var_dict in config_yaml['columns']:\n",
    "#             var_dict['description'] = ref_dict[var_dict['name']]\n",
    "            \n",
    "#     config_yaml['treated_by']['nome'] = 'Diego Oliveira'\n",
    "#     config_yaml['treated_by']['website'] = 'https://www.al.sp.gov.br/servidor/lista/?todos=true'\n",
    "#     config_yaml['treated_by']['email'] = 'ds.oliveira404@gmail.com'\n",
    "\n",
    "#     config_yaml['published_by']['name'] = 'Diego Oliveira'\n",
    "#     config_yaml['published_by']['website'] = 'github.com/d116626'\n",
    "#     config_yaml['published_by']['email'] =  'ds.oliveira404@gmail.com'\n",
    "\n",
    "#     config_yaml['treatment_description'] = 'Padronização do nome das colunas, remoção de textos e logos, unificação das bases'\n",
    "\n",
    "#     config_yaml['data_update_frequency'] = '10 anos'\n",
    "\n",
    "#     config_yaml['observation_level'] = ['cod_setor','sigla_uf' ]\n",
    "\n",
    "#     config_yaml['coverage_geo'] = ['BR']\n",
    "\n",
    "\n",
    "#     config_yaml['coverage_time'] = ['2010']\n",
    "\n",
    "#     config_yaml['columns'] = [i for i in config_yaml['columns'][:1]] + [config_yaml['columns'][-1]] + [i for i in config_yaml['columns'][1:-1]]\n",
    "    \n",
    "#     with open(bd_base_path, 'w') as fp:\n",
    "#         yaml.dump(config_yaml, fp)\n",
    "        \n",
    "\n",
    "    print(' ')\n"
   ]
  },
  {
   "cell_type": "code",
   "execution_count": null,
   "metadata": {},
   "outputs": [],
   "source": []
  },
  {
   "cell_type": "markdown",
   "metadata": {},
   "source": [
    "## Publish"
   ]
  },
  {
   "cell_type": "code",
   "execution_count": 73,
   "metadata": {},
   "outputs": [],
   "source": [
    "reference_table_path = '../data/censo/bases/tratado/reference_tables/'\n",
    "folders = glob.glob(\"../data/censo/bases/tratado/organized/*/\")\n",
    "folders.remove( '../data/censo/bases/tratado/organized/basico_diretorio/')"
   ]
  },
  {
   "cell_type": "code",
   "execution_count": 75,
   "metadata": {},
   "outputs": [
    {
     "name": "stdout",
     "output_type": "stream",
     "text": [
      "0  -  ../data/censo/bases/tratado/organized/alfabetizacao_homens_mulheres/\n",
      "1  -  ../data/censo/bases/tratado/organized/alfabetizacao_total/\n",
      "2  -  ../data/censo/bases/tratado/organized/basico/\n",
      "3  -  ../data/censo/bases/tratado/organized/domicilio_caracteristicas_gerais/\n",
      "4  -  ../data/censo/bases/tratado/organized/domicilio_moradores/\n",
      "5  -  ../data/censo/bases/tratado/organized/domicilio_renda/\n",
      "6  -  ../data/censo/bases/tratado/organized/entorno/\n",
      "7  -  ../data/censo/bases/tratado/organized/idade_homens/\n",
      "8  -  ../data/censo/bases/tratado/organized/idade_mulheres/\n",
      "9  -  ../data/censo/bases/tratado/organized/idade_total/\n",
      "10  -  ../data/censo/bases/tratado/organized/pessoa_renda/\n",
      "11  -  ../data/censo/bases/tratado/organized/raca_alfabetizacao_idade_genero/\n",
      "12  -  ../data/censo/bases/tratado/organized/raca_idade_0_4_genero/\n",
      "13  -  ../data/censo/bases/tratado/organized/raca_idade_genero/\n",
      "14  -  ../data/censo/bases/tratado/organized/registro_civil/\n",
      "15  -  ../data/censo/bases/tratado/organized/relacao_parentesco_conjuges/\n",
      "16  -  ../data/censo/bases/tratado/organized/relacao_parentesco_filhos/\n",
      "17  -  ../data/censo/bases/tratado/organized/relacao_parentesco_filhos_enteados/\n",
      "18  -  ../data/censo/bases/tratado/organized/relacao_parentesco_outros/\n",
      "19  -  ../data/censo/bases/tratado/organized/responsavel_domicilios_homens_total/\n",
      "20  -  ../data/censo/bases/tratado/organized/responsavel_domicilios_mulheres/\n",
      "21  -  ../data/censo/bases/tratado/organized/responsavel_renda/\n"
     ]
    }
   ],
   "source": [
    "i=0\n",
    "for folder in folders:\n",
    "    print(i,' - ',folder)\n",
    "    i+=1\n",
    "    folder_name = folder.split('/')[-2]\n",
    "    \n",
    "    tb = Table(f'setor_censitario_{folder_name}_2010','br_ibge_censo_demografico')\n",
    "    tb.publish(if_exists='replace')"
   ]
  },
  {
   "cell_type": "code",
   "execution_count": null,
   "metadata": {},
   "outputs": [],
   "source": []
  },
  {
   "cell_type": "markdown",
   "metadata": {},
   "source": [
    "## Add Setor Censitario"
   ]
  },
  {
   "cell_type": "code",
   "execution_count": null,
   "metadata": {},
   "outputs": [],
   "source": []
  },
  {
   "cell_type": "code",
   "execution_count": 68,
   "metadata": {},
   "outputs": [],
   "source": [
    "tb = Table(f'setor_censitario','br_bd_diretorios_brasil')"
   ]
  },
  {
   "cell_type": "code",
   "execution_count": 61,
   "metadata": {},
   "outputs": [
    {
     "name": "stderr",
     "output_type": "stream",
     "text": [
      "Uploading files: 100%|██████████| 28/28 [00:35<00:00,  1.28s/it]\n"
     ]
    }
   ],
   "source": [
    "tb.create(f'../data/censo/bases/tratado/organized/basico_diretorio/',\n",
    "          partitioned=True,\n",
    "          if_table_exists='replace',\n",
    "          if_storage_data_exists='replace',\n",
    "          if_table_config_exists='raise',\n",
    "         )"
   ]
  },
  {
   "cell_type": "code",
   "execution_count": 69,
   "metadata": {},
   "outputs": [],
   "source": [
    "tb.publish(if_exists='replace')"
   ]
  },
  {
   "cell_type": "code",
   "execution_count": null,
   "metadata": {},
   "outputs": [],
   "source": []
  },
  {
   "cell_type": "code",
   "execution_count": null,
   "metadata": {},
   "outputs": [],
   "source": []
  },
  {
   "cell_type": "markdown",
   "metadata": {},
   "source": [
    "# CONVERT MAP TABLES"
   ]
  },
  {
   "cell_type": "code",
   "execution_count": 47,
   "metadata": {},
   "outputs": [],
   "source": [
    "def extract_df(var,pages):\n",
    "    ../data/censo/\n",
    "    dd = camelot.read_pdf('../data/censo/map_tables/BASE DE INFORMAАхES POR SETOR CENSIT╡RIO Censo 2010 - Universo.pdf', pages=pages)\n",
    "    df = pd.DataFrame()\n",
    "\n",
    "    for i in range(len(dd)):\n",
    "        df = pd.concat([df,dd[i].df], axis=0)\n",
    "\n",
    "    df = df.reset_index(drop=True)\n",
    "    for col in df.columns.to_list():\n",
    "        df[col] = df[col].str.replace('\\r',' ').str.replace('\\n',' ')\n",
    "    # df.columns = df.columns.str.replace('\\r',' ')\n",
    "    df.columns = ['Nome da variável','Descrição da variável']\n",
    "\n",
    "    mask = df['Descrição da variável']!=df['Descrição da variável'][0]\n",
    "    df = df[mask]\n",
    "    \n",
    "    mask = df['Descrição da variável']!='Descrição da variável'\n",
    "    df = df[mask]\n",
    "    \n",
    "    return df"
   ]
  },
  {
   "cell_type": "markdown",
   "metadata": {},
   "source": [
    "### Básico_UF.csv"
   ]
  },
  {
   "cell_type": "code",
   "execution_count": 247,
   "metadata": {},
   "outputs": [],
   "source": [
    "var = 'Básico_UF'\n",
    "pages='45-46'\n",
    "df = extract_df(var,pages)"
   ]
  },
  {
   "cell_type": "code",
   "execution_count": 155,
   "metadata": {},
   "outputs": [],
   "source": [
    "df.to_excel(f'../data/censo/map_tables/{var}.xlsx', index=False)"
   ]
  },
  {
   "cell_type": "code",
   "execution_count": null,
   "metadata": {},
   "outputs": [],
   "source": []
  },
  {
   "cell_type": "markdown",
   "metadata": {},
   "source": [
    "### Domicilio01_UF.csv"
   ]
  },
  {
   "cell_type": "code",
   "execution_count": 153,
   "metadata": {},
   "outputs": [],
   "source": [
    "var = 'Domicilio01_UF'\n",
    "pages = '47-58'\n",
    "df = extract_df(var,pages)"
   ]
  },
  {
   "cell_type": "code",
   "execution_count": 155,
   "metadata": {},
   "outputs": [],
   "source": [
    "df.to_excel(f'../data/censo/map_tables/{var}.xlsx', index=False)"
   ]
  },
  {
   "cell_type": "code",
   "execution_count": null,
   "metadata": {},
   "outputs": [],
   "source": []
  },
  {
   "cell_type": "markdown",
   "metadata": {},
   "source": [
    "### Domicilio02_UF.csv"
   ]
  },
  {
   "cell_type": "code",
   "execution_count": 156,
   "metadata": {},
   "outputs": [],
   "source": [
    "var = 'Domicilio02_UF'\n",
    "pages = '59-65'\n",
    "df = extract_df(var,pages)"
   ]
  },
  {
   "cell_type": "code",
   "execution_count": 158,
   "metadata": {},
   "outputs": [],
   "source": [
    "df.to_excel(f'../data/censo/map_tables/{var}.xlsx', index=False)"
   ]
  },
  {
   "cell_type": "code",
   "execution_count": null,
   "metadata": {},
   "outputs": [],
   "source": []
  },
  {
   "cell_type": "markdown",
   "metadata": {},
   "source": [
    "### Responsável01_UF.xls"
   ]
  },
  {
   "cell_type": "code",
   "execution_count": 159,
   "metadata": {},
   "outputs": [],
   "source": [
    "var = 'Responsável01_UF'\n",
    "pages = '66-70'\n",
    "df = extract_df(var,pages)"
   ]
  },
  {
   "cell_type": "code",
   "execution_count": 161,
   "metadata": {},
   "outputs": [],
   "source": [
    "df.to_excel(f'../data/censo/map_tables/{var}.xlsx', index=False)"
   ]
  },
  {
   "cell_type": "code",
   "execution_count": null,
   "metadata": {},
   "outputs": [],
   "source": []
  },
  {
   "cell_type": "markdown",
   "metadata": {},
   "source": [
    "### Responsável02_UF.csv"
   ]
  },
  {
   "cell_type": "code",
   "execution_count": 162,
   "metadata": {},
   "outputs": [],
   "source": [
    "var = 'Responsável02_UF'\n",
    "pages = '71-78'\n",
    "df = extract_df(var,pages)"
   ]
  },
  {
   "cell_type": "code",
   "execution_count": 163,
   "metadata": {},
   "outputs": [],
   "source": [
    "df.to_excel(f'../data/censo/map_tables/{var}.xlsx', index=False)"
   ]
  },
  {
   "cell_type": "code",
   "execution_count": null,
   "metadata": {},
   "outputs": [],
   "source": []
  },
  {
   "cell_type": "markdown",
   "metadata": {},
   "source": [
    "### Pessoa01_UF.csv"
   ]
  },
  {
   "cell_type": "code",
   "execution_count": 165,
   "metadata": {},
   "outputs": [],
   "source": [
    "var = 'Pessoa01_UF'\n",
    "pages = '79-81'\n",
    "df = extract_df(var,pages)"
   ]
  },
  {
   "cell_type": "code",
   "execution_count": 167,
   "metadata": {},
   "outputs": [],
   "source": [
    "df.to_excel(f'../data/censo/map_tables/{var}.xlsx', index=False)"
   ]
  },
  {
   "cell_type": "code",
   "execution_count": null,
   "metadata": {},
   "outputs": [],
   "source": []
  },
  {
   "cell_type": "markdown",
   "metadata": {},
   "source": [
    "### Pessoa02_UF.csv"
   ]
  },
  {
   "cell_type": "code",
   "execution_count": 168,
   "metadata": {},
   "outputs": [],
   "source": [
    "var = 'Pessoa02_UF'\n",
    "pages = '82-87'\n",
    "df = extract_df(var,pages)"
   ]
  },
  {
   "cell_type": "code",
   "execution_count": 170,
   "metadata": {},
   "outputs": [],
   "source": [
    "df.to_excel(f'../data/censo/map_tables/{var}.xlsx', index=False)"
   ]
  },
  {
   "cell_type": "code",
   "execution_count": null,
   "metadata": {},
   "outputs": [],
   "source": []
  },
  {
   "cell_type": "markdown",
   "metadata": {},
   "source": [
    "### Pessoa03_UF.csv"
   ]
  },
  {
   "cell_type": "code",
   "execution_count": 177,
   "metadata": {},
   "outputs": [],
   "source": [
    "var = 'Pessoa03_UF'\n",
    "pages='88-98'\n",
    "df = extract_df(var,pages)"
   ]
  },
  {
   "cell_type": "code",
   "execution_count": 178,
   "metadata": {},
   "outputs": [],
   "source": [
    "df.to_excel(f'../data/censo/map_tables/{var}.xlsx', index=False)"
   ]
  },
  {
   "cell_type": "code",
   "execution_count": null,
   "metadata": {},
   "outputs": [],
   "source": []
  },
  {
   "cell_type": "markdown",
   "metadata": {},
   "source": [
    "### Pessoa04_UF.xls"
   ]
  },
  {
   "cell_type": "code",
   "execution_count": 241,
   "metadata": {},
   "outputs": [],
   "source": [
    "var = 'Pessoa04_UF'\n",
    "pages = '99-105'\n",
    "df = extract_df(var,pages)"
   ]
  },
  {
   "cell_type": "code",
   "execution_count": 242,
   "metadata": {},
   "outputs": [],
   "source": [
    "df.to_excel(f'../data/censo/map_tables/{var}.xlsx', index=False)"
   ]
  },
  {
   "cell_type": "code",
   "execution_count": null,
   "metadata": {},
   "outputs": [],
   "source": []
  },
  {
   "cell_type": "markdown",
   "metadata": {},
   "source": [
    "### Pessoa05_UF.xls"
   ]
  },
  {
   "cell_type": "code",
   "execution_count": 237,
   "metadata": {},
   "outputs": [],
   "source": [
    "var = 'Pessoa05_UF'\n",
    "pages = '106'\n",
    "df = extract_df(var,pages)"
   ]
  },
  {
   "cell_type": "code",
   "execution_count": 238,
   "metadata": {},
   "outputs": [],
   "source": [
    "df.to_excel(f'../data/censo/map_tables/{var}.xlsx', index=False)"
   ]
  },
  {
   "cell_type": "code",
   "execution_count": null,
   "metadata": {},
   "outputs": [],
   "source": []
  },
  {
   "cell_type": "markdown",
   "metadata": {},
   "source": [
    "### Pessoa06_UF.xls"
   ]
  },
  {
   "cell_type": "code",
   "execution_count": 239,
   "metadata": {},
   "outputs": [],
   "source": [
    "var = 'Pessoa06_UF'\n",
    "pages = '107-116'\n",
    "df = extract_df(var,pages)"
   ]
  },
  {
   "cell_type": "code",
   "execution_count": 240,
   "metadata": {},
   "outputs": [],
   "source": [
    "df.to_excel(f'../data/censo/map_tables/{var}.xlsx', index=False)"
   ]
  },
  {
   "cell_type": "code",
   "execution_count": null,
   "metadata": {},
   "outputs": [],
   "source": []
  },
  {
   "cell_type": "code",
   "execution_count": null,
   "metadata": {},
   "outputs": [],
   "source": []
  },
  {
   "cell_type": "markdown",
   "metadata": {},
   "source": [
    "### Pessoa07_UF.xls"
   ]
  },
  {
   "cell_type": "code",
   "execution_count": 182,
   "metadata": {},
   "outputs": [],
   "source": [
    "var = 'Pessoa07_UF'\n",
    "pages = '117-123'\n",
    "df = extract_df(var,pages)"
   ]
  },
  {
   "cell_type": "code",
   "execution_count": 183,
   "metadata": {},
   "outputs": [],
   "source": [
    "df.to_excel(f'../data/censo/map_tables/{var}.xlsx', index=False)"
   ]
  },
  {
   "cell_type": "code",
   "execution_count": null,
   "metadata": {},
   "outputs": [],
   "source": []
  },
  {
   "cell_type": "markdown",
   "metadata": {},
   "source": [
    "### Pessoa08_UF.xls"
   ]
  },
  {
   "cell_type": "code",
   "execution_count": 243,
   "metadata": {},
   "outputs": [],
   "source": [
    "var = 'Pessoa08_UF'\n",
    "pages = '124-131'\n",
    "df = extract_df(var,pages)"
   ]
  },
  {
   "cell_type": "code",
   "execution_count": 244,
   "metadata": {},
   "outputs": [],
   "source": [
    "df.to_excel(f'../data/censo/map_tables/{var}.xlsx', index=False)"
   ]
  },
  {
   "cell_type": "code",
   "execution_count": null,
   "metadata": {},
   "outputs": [],
   "source": []
  },
  {
   "cell_type": "markdown",
   "metadata": {},
   "source": [
    "### Pessoa09_UF.xls"
   ]
  },
  {
   "cell_type": "code",
   "execution_count": 245,
   "metadata": {},
   "outputs": [],
   "source": [
    "var = 'Pessoa09_UF'\n",
    "pages = '132-138'\n",
    "df = extract_df(var,pages)"
   ]
  },
  {
   "cell_type": "code",
   "execution_count": 246,
   "metadata": {},
   "outputs": [],
   "source": [
    "df.to_excel(f'../data/censo/map_tables/{var}.xlsx', index=False)"
   ]
  },
  {
   "cell_type": "code",
   "execution_count": null,
   "metadata": {},
   "outputs": [],
   "source": []
  },
  {
   "cell_type": "code",
   "execution_count": null,
   "metadata": {},
   "outputs": [],
   "source": []
  },
  {
   "cell_type": "markdown",
   "metadata": {},
   "source": [
    "### Pessoa10_UF.xls"
   ]
  },
  {
   "cell_type": "code",
   "execution_count": 189,
   "metadata": {},
   "outputs": [],
   "source": [
    "var = 'Pessoa10_UF'\n",
    "pages = '139'\n",
    "df = extract_df(var,pages)"
   ]
  },
  {
   "cell_type": "code",
   "execution_count": 191,
   "metadata": {},
   "outputs": [],
   "source": [
    "df.to_excel(f'../data/censo/map_tables/{var}.xlsx', index=False)"
   ]
  },
  {
   "cell_type": "code",
   "execution_count": null,
   "metadata": {},
   "outputs": [],
   "source": []
  },
  {
   "cell_type": "markdown",
   "metadata": {},
   "source": [
    "### Pessoa13_UF.xls"
   ]
  },
  {
   "cell_type": "code",
   "execution_count": 192,
   "metadata": {},
   "outputs": [],
   "source": [
    "var = 'Pessoa13_UF'\n",
    "pages = '140-143'\n",
    "df = extract_df(var,pages)"
   ]
  },
  {
   "cell_type": "code",
   "execution_count": 194,
   "metadata": {},
   "outputs": [],
   "source": [
    "df.to_excel(f'../data/censo/map_tables/{var}.xlsx', index=False)"
   ]
  },
  {
   "cell_type": "code",
   "execution_count": null,
   "metadata": {},
   "outputs": [],
   "source": []
  },
  {
   "cell_type": "markdown",
   "metadata": {},
   "source": [
    "### Pessoa11_UF.xls"
   ]
  },
  {
   "cell_type": "code",
   "execution_count": 195,
   "metadata": {},
   "outputs": [],
   "source": [
    "var = 'Pessoa11_UF'\n",
    "pages = '144-147'\n",
    "df = extract_df(var,pages)"
   ]
  },
  {
   "cell_type": "code",
   "execution_count": 197,
   "metadata": {},
   "outputs": [],
   "source": [
    "df.to_excel(f'../data/censo/map_tables/{var}.xlsx', index=False)"
   ]
  },
  {
   "cell_type": "code",
   "execution_count": null,
   "metadata": {},
   "outputs": [],
   "source": []
  },
  {
   "cell_type": "code",
   "execution_count": null,
   "metadata": {},
   "outputs": [],
   "source": []
  },
  {
   "cell_type": "markdown",
   "metadata": {},
   "source": [
    "### Pessoa12_UF.xls"
   ]
  },
  {
   "cell_type": "code",
   "execution_count": 198,
   "metadata": {},
   "outputs": [],
   "source": [
    "var = 'Pessoa12_UF'\n",
    "pages = '148-152'\n",
    "df = extract_df(var,pages)"
   ]
  },
  {
   "cell_type": "code",
   "execution_count": 199,
   "metadata": {},
   "outputs": [],
   "source": [
    "df.to_excel(f'../data/censo/map_tables/{var}.xlsx', index=False)"
   ]
  },
  {
   "cell_type": "code",
   "execution_count": null,
   "metadata": {},
   "outputs": [],
   "source": []
  },
  {
   "cell_type": "code",
   "execution_count": null,
   "metadata": {},
   "outputs": [],
   "source": []
  },
  {
   "cell_type": "markdown",
   "metadata": {},
   "source": [
    "### DomicílioRenda _UF.xls"
   ]
  },
  {
   "cell_type": "code",
   "execution_count": 200,
   "metadata": {},
   "outputs": [],
   "source": [
    "var = 'DomicilioRenda _UF'\n",
    "pages = '153'\n",
    "df = extract_df(var,pages)"
   ]
  },
  {
   "cell_type": "code",
   "execution_count": 202,
   "metadata": {},
   "outputs": [],
   "source": [
    "df.to_excel(f'../data/censo/map_tables/{var}.xlsx', index=False)"
   ]
  },
  {
   "cell_type": "code",
   "execution_count": null,
   "metadata": {},
   "outputs": [],
   "source": []
  },
  {
   "cell_type": "code",
   "execution_count": null,
   "metadata": {},
   "outputs": [],
   "source": []
  },
  {
   "cell_type": "markdown",
   "metadata": {},
   "source": [
    "### ResponsavelRenda_UF"
   ]
  },
  {
   "cell_type": "code",
   "execution_count": 203,
   "metadata": {},
   "outputs": [],
   "source": [
    "var = 'ResponsavelRenda_UF'\n",
    "pages = '154-162'\n",
    "df = extract_df(var,pages)"
   ]
  },
  {
   "cell_type": "code",
   "execution_count": 205,
   "metadata": {},
   "outputs": [],
   "source": [
    "df.to_excel(f'../data/censo/map_tables/{var}.xlsx', index=False)"
   ]
  },
  {
   "cell_type": "code",
   "execution_count": null,
   "metadata": {},
   "outputs": [],
   "source": []
  },
  {
   "cell_type": "code",
   "execution_count": null,
   "metadata": {},
   "outputs": [],
   "source": []
  },
  {
   "cell_type": "markdown",
   "metadata": {},
   "source": [
    "### PessoaRenda_UF.xls"
   ]
  },
  {
   "cell_type": "code",
   "execution_count": 206,
   "metadata": {},
   "outputs": [],
   "source": [
    "var = 'PessoaRenda_UF'\n",
    "pages = '163-171'\n",
    "df = extract_df(var,pages)"
   ]
  },
  {
   "cell_type": "code",
   "execution_count": 209,
   "metadata": {},
   "outputs": [],
   "source": [
    "df.to_excel(f'../data/censo/map_tables/{var}.xlsx', index=False)"
   ]
  },
  {
   "cell_type": "code",
   "execution_count": null,
   "metadata": {},
   "outputs": [],
   "source": []
  },
  {
   "cell_type": "code",
   "execution_count": null,
   "metadata": {},
   "outputs": [],
   "source": []
  },
  {
   "cell_type": "markdown",
   "metadata": {},
   "source": [
    "### Entorno01_UF.xls"
   ]
  },
  {
   "cell_type": "code",
   "execution_count": 235,
   "metadata": {},
   "outputs": [],
   "source": [
    "var = 'Entorno01_UF'\n",
    "pages = '172-183'\n",
    "df = extract_df(var,pages)"
   ]
  },
  {
   "cell_type": "code",
   "execution_count": 236,
   "metadata": {},
   "outputs": [],
   "source": [
    "df.to_excel(f'../data/censo/map_tables/{var}.xlsx', index=False)"
   ]
  },
  {
   "cell_type": "code",
   "execution_count": null,
   "metadata": {},
   "outputs": [],
   "source": []
  },
  {
   "cell_type": "code",
   "execution_count": null,
   "metadata": {},
   "outputs": [],
   "source": []
  },
  {
   "cell_type": "markdown",
   "metadata": {},
   "source": [
    "### Entorno02_UF.xls"
   ]
  },
  {
   "cell_type": "code",
   "execution_count": 214,
   "metadata": {},
   "outputs": [],
   "source": [
    "var = 'Entorno02_UF'\n",
    "pages = '184-196'\n",
    "df = extract_df(var,pages)"
   ]
  },
  {
   "cell_type": "code",
   "execution_count": 216,
   "metadata": {},
   "outputs": [],
   "source": [
    "df.to_excel(f'../data/censo/map_tables/{var}.xlsx', index=False)"
   ]
  },
  {
   "cell_type": "code",
   "execution_count": null,
   "metadata": {},
   "outputs": [],
   "source": []
  },
  {
   "cell_type": "code",
   "execution_count": null,
   "metadata": {},
   "outputs": [],
   "source": []
  },
  {
   "cell_type": "markdown",
   "metadata": {},
   "source": [
    "### Entorno03_UF.xls"
   ]
  },
  {
   "cell_type": "code",
   "execution_count": 225,
   "metadata": {},
   "outputs": [],
   "source": [
    "var = 'Entorno03_UF'\n",
    "pages = '197-210'\n",
    "df = extract_df(var,pages)"
   ]
  },
  {
   "cell_type": "code",
   "execution_count": 226,
   "metadata": {},
   "outputs": [],
   "source": [
    "df.to_excel(f'../data/censo/map_tables/{var}.xlsx', index=False)"
   ]
  },
  {
   "cell_type": "code",
   "execution_count": null,
   "metadata": {},
   "outputs": [],
   "source": []
  },
  {
   "cell_type": "code",
   "execution_count": null,
   "metadata": {},
   "outputs": [],
   "source": []
  },
  {
   "cell_type": "code",
   "execution_count": null,
   "metadata": {},
   "outputs": [],
   "source": []
  },
  {
   "cell_type": "markdown",
   "metadata": {},
   "source": [
    "### Entorno04_UF.xls"
   ]
  },
  {
   "cell_type": "code",
   "execution_count": 229,
   "metadata": {},
   "outputs": [],
   "source": [
    "var = 'Entorno04_UF'\n",
    "pages = '211-223'\n",
    "df = extract_df(var,pages)"
   ]
  },
  {
   "cell_type": "code",
   "execution_count": 231,
   "metadata": {},
   "outputs": [],
   "source": [
    "df.to_excel(f'../data/censo/map_tables/{var}.xlsx', index=False)"
   ]
  },
  {
   "cell_type": "code",
   "execution_count": null,
   "metadata": {},
   "outputs": [],
   "source": []
  },
  {
   "cell_type": "code",
   "execution_count": null,
   "metadata": {},
   "outputs": [],
   "source": []
  },
  {
   "cell_type": "markdown",
   "metadata": {},
   "source": [
    "### Entorno05_UF.xls"
   ]
  },
  {
   "cell_type": "code",
   "execution_count": 232,
   "metadata": {},
   "outputs": [],
   "source": [
    "var = 'Entorno05_UF'\n",
    "pages = '224-234'\n",
    "df = extract_df(var,pages)"
   ]
  },
  {
   "cell_type": "code",
   "execution_count": 234,
   "metadata": {},
   "outputs": [],
   "source": [
    "df.to_excel(f'../data/censo/map_tables/{var}.xlsx', index=False)"
   ]
  },
  {
   "cell_type": "code",
   "execution_count": null,
   "metadata": {},
   "outputs": [],
   "source": []
  },
  {
   "cell_type": "code",
   "execution_count": null,
   "metadata": {},
   "outputs": [],
   "source": []
  },
  {
   "cell_type": "code",
   "execution_count": null,
   "metadata": {},
   "outputs": [],
   "source": []
  },
  {
   "cell_type": "code",
   "execution_count": null,
   "metadata": {},
   "outputs": [],
   "source": []
  },
  {
   "cell_type": "code",
   "execution_count": 221,
   "metadata": {},
   "outputs": [],
   "source": []
  },
  {
   "cell_type": "code",
   "execution_count": null,
   "metadata": {},
   "outputs": [],
   "source": []
  }
 ],
 "metadata": {
  "kernelspec": {
   "display_name": "Python 3",
   "language": "python",
   "name": "python3"
  },
  "language_info": {
   "codemirror_mode": {
    "name": "ipython",
    "version": 3
   },
   "file_extension": ".py",
   "mimetype": "text/x-python",
   "name": "python",
   "nbconvert_exporter": "python",
   "pygments_lexer": "ipython3",
   "version": "3.8.3"
  }
 },
 "nbformat": 4,
 "nbformat_minor": 4
}
